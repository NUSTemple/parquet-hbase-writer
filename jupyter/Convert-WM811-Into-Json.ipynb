{
 "cells": [
  {
   "cell_type": "code",
   "execution_count": 116,
   "metadata": {},
   "outputs": [
    {
     "name": "stdout",
     "output_type": "stream",
     "text": [
      "<class 'pandas.core.frame.DataFrame'>\n",
      "RangeIndex: 811457 entries, 0 to 811456\n",
      "Data columns (total 6 columns):\n",
      " #   Column          Non-Null Count   Dtype  \n",
      "---  ------          --------------   -----  \n",
      " 0   waferMap        811457 non-null  object \n",
      " 1   dieSize         811457 non-null  float64\n",
      " 2   lotName         811457 non-null  object \n",
      " 3   waferIndex      811457 non-null  float64\n",
      " 4   trianTestLabel  811457 non-null  object \n",
      " 5   failureType     811457 non-null  object \n",
      "dtypes: float64(2), object(4)\n",
      "memory usage: 37.1+ MB\n"
     ]
    }
   ],
   "source": [
    "# loading libraries\n",
    "import numpy as np # linear algebra\n",
    "import pandas as pd # data processing, CSV file I/O (e.g. pd.read_csv)\n",
    "import os\n",
    "import base64\n",
    "import cv2\n",
    "import numpy as np\n",
    "\n",
    "import warnings\n",
    "warnings.filterwarnings(\"ignore\")\n",
    "\n",
    "df=pd.read_pickle(\"/home/pengtan/Downloads/LSWMD.pkl\")\n",
    "df.info()"
   ]
  },
  {
   "cell_type": "code",
   "execution_count": 117,
   "metadata": {},
   "outputs": [],
   "source": [
    "def array2base64str(arr):\n",
    "    import base64\n",
    "    b = arr.tobytes()\n",
    "    e = base64.b64encode(b).decode(\"UTF-8\")\n",
    "    return e\n",
    "\n",
    "def base64str2array(s, shape=None):\n",
    "    import numpy as np\n",
    "    img_data = base64.b64decode(s)\n",
    "    nparr = np.fromstring(img_data, np.uint8)\n",
    "    if shape is None:\n",
    "        return nparr\n",
    "    else:\n",
    "        return nparr.reshape(shape)\n",
    "\n",
    "def get_failure_type(d):\n",
    "    try: \n",
    "        r = d[0][0]\n",
    "    except:\n",
    "        r = 'none'\n",
    "    return r\n",
    "    \n",
    "\n",
    "def get_width(d):\n",
    "    try:\n",
    "        s = d.shape\n",
    "        w = s[0]\n",
    "    except:\n",
    "        w = 0\n",
    "    return w\n",
    "\n",
    "def get_heigth(d):\n",
    "    try:\n",
    "        s = d.shape\n",
    "        h = s[1]\n",
    "    except:\n",
    "        h = 0\n",
    "    return h\n",
    "\n",
    "def get_lot_name(n):\n",
    "    try:\n",
    "        lot_name = n[0:3] + n[3:].zfill(7)\n",
    "    except:\n",
    "        lot_name = \"invalid_lot_name\"\n",
    "    return lot_name\n"
   ]
  },
  {
   "cell_type": "markdown",
   "metadata": {},
   "source": [
    "## Convert into Base64 String"
   ]
  },
  {
   "cell_type": "code",
   "execution_count": 118,
   "metadata": {},
   "outputs": [],
   "source": [
    "df['lot_name'] = df['lotName'].apply(get_lot_name)\n",
    "df['die_size'] = df['dieSize'].astype(int)\n",
    "df['wafer_index'] = df['waferIndex'].astype(int)\n",
    "df['failure_type'] = df['failureType'].apply(get_failure_type)\n",
    "df['wafer_map'] = df['waferMap'].apply(array2base64str)\n",
    "df['map_width'] = df['waferMap'].apply(get_width)\n",
    "df['map_heigth'] = df['waferMap'].apply(get_heigth)\n",
    "df['rowkey'] = df['lot_name'] + \"_\" + df['wafer_index'].astype(str).str.zfill(2) "
   ]
  },
  {
   "cell_type": "code",
   "execution_count": 119,
   "metadata": {},
   "outputs": [],
   "source": [
    "df_data = df[['rowkey', 'lot_name', 'wafer_index', 'failure_type', 'wafer_map', 'map_width', 'map_heigth', 'die_size']]"
   ]
  },
  {
   "cell_type": "code",
   "execution_count": 120,
   "metadata": {},
   "outputs": [
    {
     "data": {
      "text/html": [
       "<div>\n",
       "<style scoped>\n",
       "    .dataframe tbody tr th:only-of-type {\n",
       "        vertical-align: middle;\n",
       "    }\n",
       "\n",
       "    .dataframe tbody tr th {\n",
       "        vertical-align: top;\n",
       "    }\n",
       "\n",
       "    .dataframe thead th {\n",
       "        text-align: right;\n",
       "    }\n",
       "</style>\n",
       "<table border=\"1\" class=\"dataframe\">\n",
       "  <thead>\n",
       "    <tr style=\"text-align: right;\">\n",
       "      <th></th>\n",
       "      <th>rowkey</th>\n",
       "      <th>lot_name</th>\n",
       "      <th>wafer_index</th>\n",
       "      <th>failure_type</th>\n",
       "      <th>wafer_map</th>\n",
       "      <th>map_width</th>\n",
       "      <th>map_heigth</th>\n",
       "      <th>die_size</th>\n",
       "    </tr>\n",
       "  </thead>\n",
       "  <tbody>\n",
       "    <tr>\n",
       "      <th>0</th>\n",
       "      <td>lot0000001_01</td>\n",
       "      <td>lot0000001</td>\n",
       "      <td>1</td>\n",
       "      <td>none</td>\n",
       "      <td>AAAAAAAAAAAAAAAAAAAAAAAAAAAAAgEBAQEBAAAAAAAAAA...</td>\n",
       "      <td>45</td>\n",
       "      <td>48</td>\n",
       "      <td>1683</td>\n",
       "    </tr>\n",
       "    <tr>\n",
       "      <th>1</th>\n",
       "      <td>lot0000001_02</td>\n",
       "      <td>lot0000001</td>\n",
       "      <td>2</td>\n",
       "      <td>none</td>\n",
       "      <td>AAAAAAAAAAAAAAAAAAAAAAAAAAAAAQIBAQIBAAAAAAAAAA...</td>\n",
       "      <td>45</td>\n",
       "      <td>48</td>\n",
       "      <td>1683</td>\n",
       "    </tr>\n",
       "    <tr>\n",
       "      <th>2</th>\n",
       "      <td>lot0000001_03</td>\n",
       "      <td>lot0000001</td>\n",
       "      <td>3</td>\n",
       "      <td>none</td>\n",
       "      <td>AAAAAAAAAAAAAAAAAAAAAAAAAAAAAQEBAgICAAAAAAAAAA...</td>\n",
       "      <td>45</td>\n",
       "      <td>48</td>\n",
       "      <td>1683</td>\n",
       "    </tr>\n",
       "    <tr>\n",
       "      <th>3</th>\n",
       "      <td>lot0000001_04</td>\n",
       "      <td>lot0000001</td>\n",
       "      <td>4</td>\n",
       "      <td>none</td>\n",
       "      <td>AAAAAAAAAAAAAAAAAAAAAAAAAAAAAgECAgICAAAAAAAAAA...</td>\n",
       "      <td>45</td>\n",
       "      <td>48</td>\n",
       "      <td>1683</td>\n",
       "    </tr>\n",
       "    <tr>\n",
       "      <th>4</th>\n",
       "      <td>lot0000001_05</td>\n",
       "      <td>lot0000001</td>\n",
       "      <td>5</td>\n",
       "      <td>none</td>\n",
       "      <td>AAAAAAAAAAAAAAAAAAAAAAAAAAAAAQECAQEBAAAAAAAAAA...</td>\n",
       "      <td>45</td>\n",
       "      <td>48</td>\n",
       "      <td>1683</td>\n",
       "    </tr>\n",
       "  </tbody>\n",
       "</table>\n",
       "</div>"
      ],
      "text/plain": [
       "          rowkey    lot_name  wafer_index failure_type  \\\n",
       "0  lot0000001_01  lot0000001            1         none   \n",
       "1  lot0000001_02  lot0000001            2         none   \n",
       "2  lot0000001_03  lot0000001            3         none   \n",
       "3  lot0000001_04  lot0000001            4         none   \n",
       "4  lot0000001_05  lot0000001            5         none   \n",
       "\n",
       "                                           wafer_map  map_width  map_heigth  \\\n",
       "0  AAAAAAAAAAAAAAAAAAAAAAAAAAAAAgEBAQEBAAAAAAAAAA...         45          48   \n",
       "1  AAAAAAAAAAAAAAAAAAAAAAAAAAAAAQIBAQIBAAAAAAAAAA...         45          48   \n",
       "2  AAAAAAAAAAAAAAAAAAAAAAAAAAAAAQEBAgICAAAAAAAAAA...         45          48   \n",
       "3  AAAAAAAAAAAAAAAAAAAAAAAAAAAAAgECAgICAAAAAAAAAA...         45          48   \n",
       "4  AAAAAAAAAAAAAAAAAAAAAAAAAAAAAQECAQEBAAAAAAAAAA...         45          48   \n",
       "\n",
       "   die_size  \n",
       "0      1683  \n",
       "1      1683  \n",
       "2      1683  \n",
       "3      1683  \n",
       "4      1683  "
      ]
     },
     "execution_count": 120,
     "metadata": {},
     "output_type": "execute_result"
    }
   ],
   "source": [
    "df_data.head(5)"
   ]
  },
  {
   "cell_type": "code",
   "execution_count": 123,
   "metadata": {},
   "outputs": [
    {
     "data": {
      "text/plain": [
       "(811457, 14)"
      ]
     },
     "execution_count": 123,
     "metadata": {},
     "output_type": "execute_result"
    }
   ],
   "source": [
    "df.shape"
   ]
  },
  {
   "cell_type": "code",
   "execution_count": 121,
   "metadata": {},
   "outputs": [],
   "source": [
    "df_data.to_parquet(\"wm811k.parquet\")"
   ]
  }
 ],
 "metadata": {
  "kernelspec": {
   "display_name": "Python 3",
   "language": "python",
   "name": "python3"
  },
  "language_info": {
   "codemirror_mode": {
    "name": "ipython",
    "version": 3
   },
   "file_extension": ".py",
   "mimetype": "text/x-python",
   "name": "python",
   "nbconvert_exporter": "python",
   "pygments_lexer": "ipython3",
   "version": "3.7.6"
  },
  "toc": {
   "base_numbering": 1,
   "nav_menu": {},
   "number_sections": false,
   "sideBar": false,
   "skip_h1_title": false,
   "title_cell": "Table of Contents",
   "title_sidebar": "Contents",
   "toc_cell": false,
   "toc_position": {},
   "toc_section_display": false,
   "toc_window_display": false
  }
 },
 "nbformat": 4,
 "nbformat_minor": 4
}
